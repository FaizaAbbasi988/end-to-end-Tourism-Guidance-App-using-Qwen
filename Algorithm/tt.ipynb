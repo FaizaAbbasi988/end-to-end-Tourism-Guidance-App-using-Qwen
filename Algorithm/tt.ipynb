{
 "cells": [
  {
   "cell_type": "code",
   "execution_count": 12,
   "id": "3efb6164",
   "metadata": {},
   "outputs": [],
   "source": [
    "import pyttsx3\n",
    "import os\n",
    "import base64\n",
    "\n",
    "class TTS():\n",
    "    def __init__(self):\n",
    "        self.engine = pyttsx3.init()\n",
    "\n",
    "    def text_to_speech_and_show_bytes(self, text: str, filename: str=\"output.mp3\", mode: str = 'ZH'):\n",
    "        \"\"\"Convert text to speech, save it, then read and display the bytes\"\"\"\n",
    "        try:\n",
    "            if mode == 'ZH':\n",
    "                input_voice, input_language = 'Chinese', 'ZH'\n",
    "            else:\n",
    "                input_voice, input_language = 'English', 'EN'\n",
    "\n",
    "            \n",
    "            # Initialize the engine\n",
    "            self.engine = pyttsx3.init()\n",
    "            \n",
    "            # Try to set Chinese voice if available\n",
    "            voices = self.engine.getProperty('voices')\n",
    "            for voice in voices:\n",
    "                if input_voice in voice.name or input_language in voice.languages:\n",
    "                    self.engine.setProperty('voice', voice.id)\n",
    "                    break\n",
    "            \n",
    "            # Save to file\n",
    "            self.engine.save_to_file(text, filename)\n",
    "            self.engine.runAndWait()\n",
    "            \n",
    "            # Read the file back as bytes\n",
    "\n",
    "            with open(filename, 'rb') as f:\n",
    "                audio_bytes = f.read()\n",
    "            audio_bytes_64 = base64.b64encode(audio_bytes).decode('utf-8')\n",
    "\n",
    "            return audio_bytes_64, audio_bytes\n",
    "            \n",
    "        except Exception as e:\n",
    "            print(f\"Error: {e}\")\n",
    "        finally:\n",
    "            # Clean up - remove the file if you want\n",
    "            if os.path.exists(filename):\n",
    "                os.remove(filename)\n",
    "\n"
   ]
  },
  {
   "cell_type": "code",
   "execution_count": 13,
   "id": "9e075df1",
   "metadata": {},
   "outputs": [],
   "source": [
    "tts = TTS()"
   ]
  },
  {
   "cell_type": "code",
   "execution_count": 14,
   "id": "9fa1af5c",
   "metadata": {},
   "outputs": [],
   "source": [
    "answr =\"\"\" 晋祠是位于山西省太原市的一处古代文化遗址和园林。它是中国现存最早的木结构建筑群之一，被誉为“中国最美的私家花园”。晋祠主要由一系列的殿堂、亭台楼阁以及雕塑、碑刻组成，其中最著名的是圣母殿和鱼沼飞梁。\\n\\n该景区不仅以其精美的古建筑而闻名，还保存了许多珍贵的历史文物。其中最为人所熟知的是一系列关于孔子及其先祖的石雕画像，以及大量的铭文碑刻，这些都见证了晋祠悠久的历史和丰富的人文内涵。\\n\\n晋祠展现了中国古代高超的艺术成就和文化智慧，对于研究古代中国建筑、雕塑艺术及文化习俗具有重要价值。\"\"\""
   ]
  },
  {
   "cell_type": "code",
   "execution_count": 15,
   "id": "c8fe0c79",
   "metadata": {},
   "outputs": [],
   "source": [
    "tts = TTS()\n",
    "_,ss = tts.text_to_speech_and_show_bytes(answr)"
   ]
  },
  {
   "cell_type": "code",
   "execution_count": 17,
   "id": "777d1a11",
   "metadata": {},
   "outputs": [
    {
     "ename": "TypeError",
     "evalue": "Unsupported data type: 'bytes16376608'",
     "output_type": "error",
     "traceback": [
      "\u001b[31m---------------------------------------------------------------------------\u001b[39m",
      "\u001b[31mTypeError\u001b[39m                                 Traceback (most recent call last)",
      "\u001b[36mCell\u001b[39m\u001b[36m \u001b[39m\u001b[32mIn[17]\u001b[39m\u001b[32m, line 4\u001b[39m\n\u001b[32m      1\u001b[39m \u001b[38;5;28;01mimport\u001b[39;00m\u001b[38;5;250m \u001b[39m\u001b[34;01msoundfile\u001b[39;00m\u001b[38;5;250m \u001b[39m\u001b[38;5;28;01mas\u001b[39;00m\u001b[38;5;250m \u001b[39m\u001b[34;01mdf\u001b[39;00m\n\u001b[32m      2\u001b[39m \u001b[38;5;28;01mimport\u001b[39;00m\u001b[38;5;250m \u001b[39m\u001b[34;01msounddevice\u001b[39;00m\u001b[38;5;250m \u001b[39m\u001b[38;5;28;01mas\u001b[39;00m\u001b[38;5;250m \u001b[39m\u001b[34;01msd\u001b[39;00m\n\u001b[32m----> \u001b[39m\u001b[32m4\u001b[39m \u001b[43msd\u001b[49m\u001b[43m.\u001b[49m\u001b[43mplay\u001b[49m\u001b[43m(\u001b[49m\u001b[43mss\u001b[49m\u001b[43m)\u001b[49m\n",
      "\u001b[36mFile \u001b[39m\u001b[32md:\\toursim\\updated\\Backend_Algorithm_tourism_App\\tourist\\Lib\\site-packages\\sounddevice.py:170\u001b[39m, in \u001b[36mplay\u001b[39m\u001b[34m(data, samplerate, mapping, blocking, loop, **kwargs)\u001b[39m\n\u001b[32m    103\u001b[39m \u001b[38;5;250m\u001b[39m\u001b[33;03m\"\"\"Play back a NumPy array containing audio data.\u001b[39;00m\n\u001b[32m    104\u001b[39m \n\u001b[32m    105\u001b[39m \u001b[33;03mThis is a convenience function for interactive use and for small\u001b[39;00m\n\u001b[32m   (...)\u001b[39m\u001b[32m    167\u001b[39m \n\u001b[32m    168\u001b[39m \u001b[33;03m\"\"\"\u001b[39;00m\n\u001b[32m    169\u001b[39m ctx = _CallbackContext(loop=loop)\n\u001b[32m--> \u001b[39m\u001b[32m170\u001b[39m ctx.frames = \u001b[43mctx\u001b[49m\u001b[43m.\u001b[49m\u001b[43mcheck_data\u001b[49m\u001b[43m(\u001b[49m\u001b[43mdata\u001b[49m\u001b[43m,\u001b[49m\u001b[43m \u001b[49m\u001b[43mmapping\u001b[49m\u001b[43m,\u001b[49m\u001b[43m \u001b[49m\u001b[43mkwargs\u001b[49m\u001b[43m.\u001b[49m\u001b[43mget\u001b[49m\u001b[43m(\u001b[49m\u001b[33;43m'\u001b[39;49m\u001b[33;43mdevice\u001b[39;49m\u001b[33;43m'\u001b[39;49m\u001b[43m)\u001b[49m\u001b[43m)\u001b[49m\n\u001b[32m    172\u001b[39m \u001b[38;5;28;01mdef\u001b[39;00m\u001b[38;5;250m \u001b[39m\u001b[34mcallback\u001b[39m(outdata, frames, time, status):\n\u001b[32m    173\u001b[39m     \u001b[38;5;28;01massert\u001b[39;00m \u001b[38;5;28mlen\u001b[39m(outdata) == frames\n",
      "\u001b[36mFile \u001b[39m\u001b[32md:\\toursim\\updated\\Backend_Algorithm_tourism_App\\tourist\\Lib\\site-packages\\sounddevice.py:2522\u001b[39m, in \u001b[36m_CallbackContext.check_data\u001b[39m\u001b[34m(self, data, mapping, device)\u001b[39m\n\u001b[32m   2519\u001b[39m     \u001b[38;5;28;01mraise\u001b[39;00m \u001b[38;5;167;01mValueError\u001b[39;00m(\n\u001b[32m   2520\u001b[39m         \u001b[33m'\u001b[39m\u001b[33maudio data to be played back must be one- or two-dimensional\u001b[39m\u001b[33m'\u001b[39m)\n\u001b[32m   2521\u001b[39m frames, channels = data.shape\n\u001b[32m-> \u001b[39m\u001b[32m2522\u001b[39m dtype = \u001b[43m_check_dtype\u001b[49m\u001b[43m(\u001b[49m\u001b[43mdata\u001b[49m\u001b[43m.\u001b[49m\u001b[43mdtype\u001b[49m\u001b[43m)\u001b[49m\n\u001b[32m   2523\u001b[39m mapping_is_explicit = mapping \u001b[38;5;129;01mis\u001b[39;00m \u001b[38;5;129;01mnot\u001b[39;00m \u001b[38;5;28;01mNone\u001b[39;00m\n\u001b[32m   2524\u001b[39m mapping, channels = _check_mapping(mapping, channels)\n",
      "\u001b[36mFile \u001b[39m\u001b[32md:\\toursim\\updated\\Backend_Algorithm_tourism_App\\tourist\\Lib\\site-packages\\sounddevice.py:2690\u001b[39m, in \u001b[36m_check_dtype\u001b[39m\u001b[34m(dtype)\u001b[39m\n\u001b[32m   2688\u001b[39m     dtype = \u001b[33m'\u001b[39m\u001b[33mfloat32\u001b[39m\u001b[33m'\u001b[39m\n\u001b[32m   2689\u001b[39m \u001b[38;5;28;01melse\u001b[39;00m:\n\u001b[32m-> \u001b[39m\u001b[32m2690\u001b[39m     \u001b[38;5;28;01mraise\u001b[39;00m \u001b[38;5;167;01mTypeError\u001b[39;00m(\u001b[33m'\u001b[39m\u001b[33mUnsupported data type: \u001b[39m\u001b[33m'\u001b[39m + \u001b[38;5;28mrepr\u001b[39m(dtype))\n\u001b[32m   2691\u001b[39m \u001b[38;5;28;01mreturn\u001b[39;00m dtype\n",
      "\u001b[31mTypeError\u001b[39m: Unsupported data type: 'bytes16376608'"
     ]
    }
   ],
   "source": [
    "import soundfile as df\n",
    "import sounddevice as sd\n",
    "\n",
    "sd.play(ss)"
   ]
  },
  {
   "cell_type": "code",
   "execution_count": 21,
   "id": "7069623b",
   "metadata": {},
   "outputs": [
    {
     "name": "stdout",
     "output_type": "stream",
     "text": [
      "音频已保存到: D:\\toursim\\updated\\Backend_Algorithm_tourism_App\\Algorithm\\output.wav\n"
     ]
    }
   ],
   "source": [
    "import pyttsx3\n",
    "import os\n",
    "import base64\n",
    "import soundfile as sf\n",
    "import sounddevice as sd\n",
    "\n",
    "class TTS():\n",
    "    def __init__(self):\n",
    "        self.engine = pyttsx3.init()\n",
    "\n",
    "    def text_to_speech_and_play(self, text: str, output_dir: str = r\"D:\\toursim\\updated\\Backend_Algorithm_tourism_App\\Algorithm\", \n",
    "                                 filename: str = \"output.wav\", mode: str = 'ZH'):\n",
    "        \"\"\"将文本转换为语音，保存到指定目录，然后播放\"\"\"\n",
    "        try:\n",
    "            # 确保输出目录存在\n",
    "            os.makedirs(output_dir, exist_ok=True)\n",
    "            file_path = os.path.join(output_dir, filename)\n",
    "            \n",
    "            if mode == 'ZH':\n",
    "                input_voice, input_language = 'Chinese', 'ZH'\n",
    "            else:\n",
    "                input_voice, input_language = 'English', 'EN'\n",
    "\n",
    "            # 初始化引擎\n",
    "            self.engine = pyttsx3.init()\n",
    "            \n",
    "            # 设置语音\n",
    "            voices = self.engine.getProperty('voices')\n",
    "            voice_set = False\n",
    "            for voice in voices:\n",
    "                if input_voice in voice.name or input_language in voice.languages:\n",
    "                    self.engine.setProperty('voice', voice.id)\n",
    "                    voice_set = True\n",
    "                    break\n",
    "            \n",
    "            if not voice_set:\n",
    "                print(f\"警告: 未找到{input_voice}语音，使用默认语音\")\n",
    "            \n",
    "            # 保存到文件\n",
    "            self.engine.save_to_file(text, file_path)\n",
    "            self.engine.runAndWait()\n",
    "            \n",
    "            # 使用soundfile读取并播放\n",
    "            data, samplerate = sf.read(file_path)\n",
    "            sd.play(data, samplerate)\n",
    "            sd.wait()  # 等待播放完成\n",
    "            \n",
    "            # 读取文件内容为字节\n",
    "            with open(file_path, 'rb') as f:\n",
    "                audio_bytes = f.read()\n",
    "            audio_bytes_64 = base64.b64encode(audio_bytes).decode('utf-8')\n",
    "\n",
    "            return audio_bytes_64, file_path\n",
    "            \n",
    "        except Exception as e:\n",
    "            print(f\"Error: {e}\")\n",
    "            return None, None\n",
    "        finally:\n",
    "            if os.path.exists(file_path):\n",
    "                pass\n",
    "answer = \"\"\"晋祠是位于山西省太原市的一处古代文化遗址和园林\"\"\"  # 省略了重复文本\n",
    "\n",
    "tts = TTS()\n",
    "audio_data, file_path = tts.text_to_speech_and_play(answer)\n",
    "\n",
    "if file_path:\n",
    "    print(f\"音频已保存到: {file_path}\")"
   ]
  },
  {
   "cell_type": "code",
   "execution_count": 8,
   "id": "71ab5715",
   "metadata": {},
   "outputs": [
    {
     "name": "stdout",
     "output_type": "stream",
     "text": [
      "Collecting sounddevice\n",
      "  Downloading sounddevice-0.5.2-py3-none-win_amd64.whl.metadata (1.6 kB)\n",
      "Requirement already satisfied: CFFI>=1.0 in d:\\toursim\\updated\\backend_algorithm_tourism_app\\tourism\\lib\\site-packages (from sounddevice) (1.17.1)\n",
      "Requirement already satisfied: pycparser in d:\\toursim\\updated\\backend_algorithm_tourism_app\\tourism\\lib\\site-packages (from CFFI>=1.0->sounddevice) (2.22)\n",
      "Downloading sounddevice-0.5.2-py3-none-win_amd64.whl (363 kB)\n",
      "Installing collected packages: sounddevice\n",
      "Successfully installed sounddevice-0.5.2\n",
      "Note: you may need to restart the kernel to use updated packages.\n"
     ]
    }
   ],
   "source": [
    "pip install sounddevice\n"
   ]
  },
  {
   "cell_type": "code",
   "execution_count": null,
   "id": "2c60bb71",
   "metadata": {},
   "outputs": [],
   "source": [
    "import base64\n",
    "import sounddevice as sd\n",
    "import soundfile as sf\n",
    "import numpy as np\n",
    "\n",
    "def mp3_to_base64_and_play(file_path):\n",
    "    \"\"\"\n",
    "    Convert MP3 to base64 and play the audio using sounddevice.\n",
    "    Returns: (base64_string, file_path) or (None, None) if error\n",
    "    \"\"\"\n",
    "    try:\n",
    "        # 1. Read file and convert to base64\n",
    "        with open(file_path, 'rb') as f:\n",
    "            mp3_bytes = f.read()\n",
    "        base64_audio = base64.b64encode(mp3_bytes).decode('utf-8')\n",
    "\n",
    "        # 2. Read audio file for playback\n",
    "        data, samplerate = sf.read(file_path)\n",
    "        \n",
    "        # 3. Play audio\n",
    "        sd.play(data, samplerate)\n",
    "        sd.wait()  # Wait until playback is finished\n",
    "        \n",
    "        return base64_audio, file_path\n",
    "        \n",
    "    except Exception as e:\n",
    "        print(f\"Error processing audio: {e}\")\n",
    "        return None, None\n",
    "\n",
    "# Usage\n",
    "file_path = r\"D:\\\\toursim\\\\updated\\\\Backend_Algorithm_tourism_App\\\\saved_audio\\\\audio_4217ff8fd54f47ad9e9d3614bc05f272.mp3\"\n",
    "base64_audio, path = mp3_to_base64_and_play(file_path)\n",
    "\n",
    "if base64_audio:\n",
    "    print(f\"Base64 (first 100 chars): {base64_audio[:100]}\")\n",
    "    print(f\"Audio played from: {path}\")"
   ]
  },
  {
   "cell_type": "code",
   "execution_count": null,
   "id": "9e322ce6",
   "metadata": {},
   "outputs": [],
   "source": [
    "def mp3_to_base64_and_play(file_path):\n",
    "    \"\"\"\n",
    "    Convert MP3 to base64 and play the audio using sounddevice.\n",
    "    Returns: (base64_string, file_path) or (None, None) if error\n",
    "    \"\"\"\n",
    "    try:\n",
    "        # 1. Read file and convert to base64\n",
    "        with open(file_path, 'rb') as f:\n",
    "            mp3_bytes = f.read()\n",
    "        base64_audio = base64.b64encode(mp3_bytes).decode('utf-8')\n",
    "\n",
    "        return base64_audio\n",
    "        \n",
    "    except Exception as e:\n",
    "        print(f\"Error processing audio: {e}\")\n",
    "        return None"
   ]
  },
  {
   "cell_type": "code",
   "execution_count": 22,
   "id": "864eb844",
   "metadata": {},
   "outputs": [],
   "source": [
    "prompt = \"\"\" \n",
    "A stylish woman walks down a Tokyo street filled with warm glowing neon and animated city signage. She wears a black leather jacket, a long red dress, and black boots, and carries a black purse.\"\"\""
   ]
  },
  {
   "cell_type": "code",
   "execution_count": 21,
   "id": "4b33e023",
   "metadata": {},
   "outputs": [],
   "source": [
    "import os\n",
    "import fal_client\n",
    "\n",
    "# Set the key (escape the string properly)\n",
    "os.environ[\"FAL_KEY\"] = \"7a75e45e-9beb-4f90-80b8-6e651780cc3d:5c0f06c59ef7ea550fd61236666b5777\"\n",
    "\n",
    "path = r'D:\\toursim\\updated\\Backend_Algorithm_tourism_App\\3.png'\n",
    "file_url = fal_client.upload_file(path)\n"
   ]
  },
  {
   "cell_type": "code",
   "execution_count": 23,
   "id": "646b8147",
   "metadata": {},
   "outputs": [
    {
     "ename": "FalClientError",
     "evalue": "User is locked. Reason: Exhausted balance. Top up your balance at fal.ai/dashboard/billing.",
     "output_type": "error",
     "traceback": [
      "\u001b[1;31m---------------------------------------------------------------------------\u001b[0m",
      "\u001b[1;31mHTTPStatusError\u001b[0m                           Traceback (most recent call last)",
      "File \u001b[1;32mc:\\Users\\Administrator\\AppData\\Local\\Programs\\Python\\Python310\\lib\\site-packages\\fal_client\\client.py:499\u001b[0m, in \u001b[0;36m_raise_for_status\u001b[1;34m(response)\u001b[0m\n\u001b[0;32m    498\u001b[0m \u001b[38;5;28;01mtry\u001b[39;00m:\n\u001b[1;32m--> 499\u001b[0m     \u001b[43mresponse\u001b[49m\u001b[38;5;241;43m.\u001b[39;49m\u001b[43mraise_for_status\u001b[49m\u001b[43m(\u001b[49m\u001b[43m)\u001b[49m\n\u001b[0;32m    500\u001b[0m \u001b[38;5;28;01mexcept\u001b[39;00m httpx\u001b[38;5;241m.\u001b[39mHTTPStatusError \u001b[38;5;28;01mas\u001b[39;00m exc:\n",
      "File \u001b[1;32mc:\\Users\\Administrator\\AppData\\Local\\Programs\\Python\\Python310\\lib\\site-packages\\httpx\\_models.py:829\u001b[0m, in \u001b[0;36mResponse.raise_for_status\u001b[1;34m(self)\u001b[0m\n\u001b[0;32m    828\u001b[0m message \u001b[38;5;241m=\u001b[39m message\u001b[38;5;241m.\u001b[39mformat(\u001b[38;5;28mself\u001b[39m, error_type\u001b[38;5;241m=\u001b[39merror_type)\n\u001b[1;32m--> 829\u001b[0m \u001b[38;5;28;01mraise\u001b[39;00m HTTPStatusError(message, request\u001b[38;5;241m=\u001b[39mrequest, response\u001b[38;5;241m=\u001b[39m\u001b[38;5;28mself\u001b[39m)\n",
      "\u001b[1;31mHTTPStatusError\u001b[0m: Client error '403 Forbidden' for url 'https://queue.fal.run/fal-ai/kling-video/v1.6/pro/text-to-video'\nFor more information check: https://developer.mozilla.org/en-US/docs/Web/HTTP/Status/403",
      "\nThe above exception was the direct cause of the following exception:\n",
      "\u001b[1;31mFalClientError\u001b[0m                            Traceback (most recent call last)",
      "Cell \u001b[1;32mIn[23], line 1\u001b[0m\n\u001b[1;32m----> 1\u001b[0m result \u001b[38;5;241m=\u001b[39m \u001b[43mfal_client\u001b[49m\u001b[38;5;241;43m.\u001b[39;49m\u001b[43msubscribe\u001b[49m\u001b[43m(\u001b[49m\n\u001b[0;32m      2\u001b[0m \u001b[43m    \u001b[49m\u001b[38;5;124;43m\"\u001b[39;49m\u001b[38;5;124;43mfal-ai/kling-video/v1.6/pro/text-to-video\u001b[39;49m\u001b[38;5;124;43m\"\u001b[39;49m\u001b[43m,\u001b[49m\n\u001b[0;32m      3\u001b[0m \u001b[43m    \u001b[49m\u001b[43marguments\u001b[49m\u001b[38;5;241;43m=\u001b[39;49m\u001b[43m{\u001b[49m\n\u001b[0;32m      4\u001b[0m \u001b[43m        \u001b[49m\u001b[38;5;124;43m\"\u001b[39;49m\u001b[38;5;124;43mimage_url\u001b[39;49m\u001b[38;5;124;43m\"\u001b[39;49m\u001b[43m:\u001b[49m\u001b[43m \u001b[49m\u001b[43mfile_url\u001b[49m\u001b[43m,\u001b[49m\u001b[43m  \u001b[49m\u001b[38;5;66;43;03m# Use the uploaded file\u001b[39;49;00m\n\u001b[0;32m      5\u001b[0m \u001b[43m        \u001b[49m\u001b[38;5;124;43m\"\u001b[39;49m\u001b[38;5;124;43mprompt\u001b[39;49m\u001b[38;5;124;43m\"\u001b[39;49m\u001b[43m:\u001b[49m\u001b[43m \u001b[49m\u001b[43mprompt\u001b[49m\n\u001b[0;32m      6\u001b[0m \u001b[43m    \u001b[49m\u001b[43m}\u001b[49m\n\u001b[0;32m      7\u001b[0m \u001b[43m)\u001b[49m\n\u001b[0;32m      8\u001b[0m \u001b[38;5;28mprint\u001b[39m(\u001b[38;5;124m\"\u001b[39m\u001b[38;5;124mVideo generation result:\u001b[39m\u001b[38;5;124m\"\u001b[39m, result)\n",
      "File \u001b[1;32mc:\\Users\\Administrator\\AppData\\Local\\Programs\\Python\\Python310\\lib\\site-packages\\fal_client\\client.py:1210\u001b[0m, in \u001b[0;36mSyncClient.subscribe\u001b[1;34m(self, application, arguments, path, hint, with_logs, on_enqueue, on_queue_update, priority)\u001b[0m\n\u001b[0;32m   1198\u001b[0m \u001b[38;5;28;01mdef\u001b[39;00m\u001b[38;5;250m \u001b[39m\u001b[38;5;21msubscribe\u001b[39m(\n\u001b[0;32m   1199\u001b[0m     \u001b[38;5;28mself\u001b[39m,\n\u001b[0;32m   1200\u001b[0m     application: \u001b[38;5;28mstr\u001b[39m,\n\u001b[1;32m   (...)\u001b[0m\n\u001b[0;32m   1208\u001b[0m     priority: Optional[Priority] \u001b[38;5;241m=\u001b[39m \u001b[38;5;28;01mNone\u001b[39;00m,\n\u001b[0;32m   1209\u001b[0m ) \u001b[38;5;241m-\u001b[39m\u001b[38;5;241m>\u001b[39m AnyJSON:\n\u001b[1;32m-> 1210\u001b[0m     handle \u001b[38;5;241m=\u001b[39m \u001b[38;5;28;43mself\u001b[39;49m\u001b[38;5;241;43m.\u001b[39;49m\u001b[43msubmit\u001b[49m\u001b[43m(\u001b[49m\n\u001b[0;32m   1211\u001b[0m \u001b[43m        \u001b[49m\u001b[43mapplication\u001b[49m\u001b[43m,\u001b[49m\n\u001b[0;32m   1212\u001b[0m \u001b[43m        \u001b[49m\u001b[43marguments\u001b[49m\u001b[43m,\u001b[49m\n\u001b[0;32m   1213\u001b[0m \u001b[43m        \u001b[49m\u001b[43mpath\u001b[49m\u001b[38;5;241;43m=\u001b[39;49m\u001b[43mpath\u001b[49m\u001b[43m,\u001b[49m\n\u001b[0;32m   1214\u001b[0m \u001b[43m        \u001b[49m\u001b[43mhint\u001b[49m\u001b[38;5;241;43m=\u001b[39;49m\u001b[43mhint\u001b[49m\u001b[43m,\u001b[49m\n\u001b[0;32m   1215\u001b[0m \u001b[43m        \u001b[49m\u001b[43mpriority\u001b[49m\u001b[38;5;241;43m=\u001b[39;49m\u001b[43mpriority\u001b[49m\u001b[43m,\u001b[49m\n\u001b[0;32m   1216\u001b[0m \u001b[43m    \u001b[49m\u001b[43m)\u001b[49m\n\u001b[0;32m   1218\u001b[0m     \u001b[38;5;28;01mif\u001b[39;00m on_enqueue \u001b[38;5;129;01mis\u001b[39;00m \u001b[38;5;129;01mnot\u001b[39;00m \u001b[38;5;28;01mNone\u001b[39;00m:\n\u001b[0;32m   1219\u001b[0m         on_enqueue(handle\u001b[38;5;241m.\u001b[39mrequest_id)\n",
      "File \u001b[1;32mc:\\Users\\Administrator\\AppData\\Local\\Programs\\Python\\Python310\\lib\\site-packages\\fal_client\\client.py:1179\u001b[0m, in \u001b[0;36mSyncClient.submit\u001b[1;34m(self, application, arguments, path, hint, webhook_url, priority)\u001b[0m\n\u001b[0;32m   1176\u001b[0m \u001b[38;5;28;01mif\u001b[39;00m priority \u001b[38;5;129;01mis\u001b[39;00m \u001b[38;5;129;01mnot\u001b[39;00m \u001b[38;5;28;01mNone\u001b[39;00m:\n\u001b[0;32m   1177\u001b[0m     headers[\u001b[38;5;124m\"\u001b[39m\u001b[38;5;124mX-Fal-Queue-Priority\u001b[39m\u001b[38;5;124m\"\u001b[39m] \u001b[38;5;241m=\u001b[39m priority\n\u001b[1;32m-> 1179\u001b[0m response \u001b[38;5;241m=\u001b[39m \u001b[43m_maybe_retry_request\u001b[49m\u001b[43m(\u001b[49m\n\u001b[0;32m   1180\u001b[0m \u001b[43m    \u001b[49m\u001b[38;5;28;43mself\u001b[39;49m\u001b[38;5;241;43m.\u001b[39;49m\u001b[43m_client\u001b[49m\u001b[43m,\u001b[49m\n\u001b[0;32m   1181\u001b[0m \u001b[43m    \u001b[49m\u001b[38;5;124;43m\"\u001b[39;49m\u001b[38;5;124;43mPOST\u001b[39;49m\u001b[38;5;124;43m\"\u001b[39;49m\u001b[43m,\u001b[49m\n\u001b[0;32m   1182\u001b[0m \u001b[43m    \u001b[49m\u001b[43murl\u001b[49m\u001b[43m,\u001b[49m\n\u001b[0;32m   1183\u001b[0m \u001b[43m    \u001b[49m\u001b[43mjson\u001b[49m\u001b[38;5;241;43m=\u001b[39;49m\u001b[43marguments\u001b[49m\u001b[43m,\u001b[49m\n\u001b[0;32m   1184\u001b[0m \u001b[43m    \u001b[49m\u001b[43mtimeout\u001b[49m\u001b[38;5;241;43m=\u001b[39;49m\u001b[38;5;28;43mself\u001b[39;49m\u001b[38;5;241;43m.\u001b[39;49m\u001b[43mdefault_timeout\u001b[49m\u001b[43m,\u001b[49m\n\u001b[0;32m   1185\u001b[0m \u001b[43m    \u001b[49m\u001b[43mheaders\u001b[49m\u001b[38;5;241;43m=\u001b[39;49m\u001b[43mheaders\u001b[49m\u001b[43m,\u001b[49m\n\u001b[0;32m   1186\u001b[0m \u001b[43m\u001b[49m\u001b[43m)\u001b[49m\n\u001b[0;32m   1187\u001b[0m _raise_for_status(response)\n\u001b[0;32m   1189\u001b[0m data \u001b[38;5;241m=\u001b[39m response\u001b[38;5;241m.\u001b[39mjson()\n",
      "File \u001b[1;32mc:\\Users\\Administrator\\AppData\\Local\\Programs\\Python\\Python310\\lib\\site-packages\\fal_client\\client.py:666\u001b[0m, in \u001b[0;36m_maybe_retry_request\u001b[1;34m(client, method, url, **kwargs)\u001b[0m\n\u001b[0;32m    664\u001b[0m \u001b[38;5;28;01mfor\u001b[39;00m attempt \u001b[38;5;129;01min\u001b[39;00m \u001b[38;5;28mrange\u001b[39m(\u001b[38;5;241m1\u001b[39m, MAX_ATTEMPTS \u001b[38;5;241m+\u001b[39m \u001b[38;5;241m1\u001b[39m):\n\u001b[0;32m    665\u001b[0m     \u001b[38;5;28;01mtry\u001b[39;00m:\n\u001b[1;32m--> 666\u001b[0m         \u001b[38;5;28;01mreturn\u001b[39;00m _request(client, method, url, \u001b[38;5;241m*\u001b[39m\u001b[38;5;241m*\u001b[39mkwargs)\n\u001b[0;32m    667\u001b[0m     \u001b[38;5;28;01mexcept\u001b[39;00m httpx\u001b[38;5;241m.\u001b[39mHTTPError \u001b[38;5;28;01mas\u001b[39;00m exc:\n\u001b[0;32m    668\u001b[0m         \u001b[38;5;28;01mif\u001b[39;00m _should_retry(exc) \u001b[38;5;129;01mand\u001b[39;00m attempt \u001b[38;5;241m<\u001b[39m MAX_ATTEMPTS:\n",
      "File \u001b[1;32mc:\\Users\\Administrator\\AppData\\Local\\Programs\\Python\\Python310\\lib\\site-packages\\fal_client\\client.py:612\u001b[0m, in \u001b[0;36m_request\u001b[1;34m(client, method, url, **kwargs)\u001b[0m\n\u001b[0;32m    608\u001b[0m \u001b[38;5;28;01mdef\u001b[39;00m\u001b[38;5;250m \u001b[39m\u001b[38;5;21m_request\u001b[39m(\n\u001b[0;32m    609\u001b[0m     client: httpx\u001b[38;5;241m.\u001b[39mClient, method: \u001b[38;5;28mstr\u001b[39m, url: \u001b[38;5;28mstr\u001b[39m, \u001b[38;5;241m*\u001b[39m\u001b[38;5;241m*\u001b[39mkwargs: Any\n\u001b[0;32m    610\u001b[0m ) \u001b[38;5;241m-\u001b[39m\u001b[38;5;241m>\u001b[39m httpx\u001b[38;5;241m.\u001b[39mResponse:\n\u001b[0;32m    611\u001b[0m     response \u001b[38;5;241m=\u001b[39m client\u001b[38;5;241m.\u001b[39mrequest(method, url, \u001b[38;5;241m*\u001b[39m\u001b[38;5;241m*\u001b[39mkwargs)\n\u001b[1;32m--> 612\u001b[0m     \u001b[43m_raise_for_status\u001b[49m\u001b[43m(\u001b[49m\u001b[43mresponse\u001b[49m\u001b[43m)\u001b[49m\n\u001b[0;32m    613\u001b[0m     \u001b[38;5;28;01mreturn\u001b[39;00m response\n",
      "File \u001b[1;32mc:\\Users\\Administrator\\AppData\\Local\\Programs\\Python\\Python310\\lib\\site-packages\\fal_client\\client.py:506\u001b[0m, in \u001b[0;36m_raise_for_status\u001b[1;34m(response)\u001b[0m\n\u001b[0;32m    503\u001b[0m \u001b[38;5;28;01mexcept\u001b[39;00m (\u001b[38;5;167;01mValueError\u001b[39;00m, \u001b[38;5;167;01mKeyError\u001b[39;00m):\n\u001b[0;32m    504\u001b[0m     msg \u001b[38;5;241m=\u001b[39m response\u001b[38;5;241m.\u001b[39mtext\n\u001b[1;32m--> 506\u001b[0m \u001b[38;5;28;01mraise\u001b[39;00m FalClientError(msg) \u001b[38;5;28;01mfrom\u001b[39;00m\u001b[38;5;250m \u001b[39m\u001b[38;5;21;01mexc\u001b[39;00m\n",
      "\u001b[1;31mFalClientError\u001b[0m: User is locked. Reason: Exhausted balance. Top up your balance at fal.ai/dashboard/billing."
     ]
    }
   ],
   "source": [
    "result = fal_client.subscribe(\n",
    "    \"fal-ai/kling-video/v1.6/pro/text-to-video\",\n",
    "    arguments={\n",
    "        \"image_url\": file_url,  # Use the uploaded file\n",
    "        \"prompt\": prompt\n",
    "    }\n",
    ")\n",
    "print(\"Video generation result:\", result)"
   ]
  },
  {
   "cell_type": "code",
   "execution_count": 9,
   "id": "41acbee4",
   "metadata": {},
   "outputs": [
    {
     "name": "stdout",
     "output_type": "stream",
     "text": [
      "Requirement already satisfied: fal_client in c:\\users\\administrator\\appdata\\local\\programs\\python\\python310\\lib\\site-packages (0.7.0)\n",
      "Requirement already satisfied: httpx<1,>=0.21.0 in c:\\users\\administrator\\appdata\\local\\programs\\python\\python310\\lib\\site-packages (from fal_client) (0.28.1)\n",
      "Requirement already satisfied: httpx-sse<0.5,>=0.4.0 in c:\\users\\administrator\\appdata\\local\\programs\\python\\python310\\lib\\site-packages (from fal_client) (0.4.0)\n",
      "Requirement already satisfied: anyio in c:\\users\\administrator\\appdata\\local\\programs\\python\\python310\\lib\\site-packages (from httpx<1,>=0.21.0->fal_client) (4.9.0)\n",
      "Requirement already satisfied: certifi in c:\\users\\administrator\\appdata\\local\\programs\\python\\python310\\lib\\site-packages (from httpx<1,>=0.21.0->fal_client) (2025.1.31)\n",
      "Requirement already satisfied: httpcore==1.* in c:\\users\\administrator\\appdata\\local\\programs\\python\\python310\\lib\\site-packages (from httpx<1,>=0.21.0->fal_client) (1.0.7)\n",
      "Requirement already satisfied: idna in c:\\users\\administrator\\appdata\\local\\programs\\python\\python310\\lib\\site-packages (from httpx<1,>=0.21.0->fal_client) (3.10)\n",
      "Requirement already satisfied: h11<0.15,>=0.13 in c:\\users\\administrator\\appdata\\local\\programs\\python\\python310\\lib\\site-packages (from httpcore==1.*->httpx<1,>=0.21.0->fal_client) (0.14.0)\n",
      "Requirement already satisfied: exceptiongroup>=1.0.2 in c:\\users\\administrator\\appdata\\roaming\\python\\python310\\site-packages (from anyio->httpx<1,>=0.21.0->fal_client) (1.2.2)\n",
      "Requirement already satisfied: sniffio>=1.1 in c:\\users\\administrator\\appdata\\local\\programs\\python\\python310\\lib\\site-packages (from anyio->httpx<1,>=0.21.0->fal_client) (1.3.1)\n",
      "Requirement already satisfied: typing_extensions>=4.5 in c:\\users\\administrator\\appdata\\local\\programs\\python\\python310\\lib\\site-packages (from anyio->httpx<1,>=0.21.0->fal_client) (4.13.0)\n",
      "Note: you may need to restart the kernel to use updated packages.\n"
     ]
    },
    {
     "name": "stderr",
     "output_type": "stream",
     "text": [
      "\n",
      "[notice] A new release of pip is available: 25.0.1 -> 25.1.1\n",
      "[notice] To update, run: python.exe -m pip install --upgrade pip\n"
     ]
    }
   ],
   "source": [
    "pip install fal_client"
   ]
  },
  {
   "cell_type": "code",
   "execution_count": null,
   "id": "ae7a066a",
   "metadata": {},
   "outputs": [],
   "source": []
  }
 ],
 "metadata": {
  "kernelspec": {
   "display_name": "Python 3",
   "language": "python",
   "name": "python3"
  },
  "language_info": {
   "codemirror_mode": {
    "name": "ipython",
    "version": 3
   },
   "file_extension": ".py",
   "mimetype": "text/x-python",
   "name": "python",
   "nbconvert_exporter": "python",
   "pygments_lexer": "ipython3",
   "version": "3.10.0"
  }
 },
 "nbformat": 4,
 "nbformat_minor": 5
}
