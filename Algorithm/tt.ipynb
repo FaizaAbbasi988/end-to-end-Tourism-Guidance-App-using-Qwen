{
 "cells": [
  {
   "cell_type": "code",
   "execution_count": 12,
   "id": "3efb6164",
   "metadata": {},
   "outputs": [],
   "source": [
    "import pyttsx3\n",
    "import os\n",
    "import base64\n",
    "\n",
    "class TTS():\n",
    "    def __init__(self):\n",
    "        self.engine = pyttsx3.init()\n",
    "\n",
    "    def text_to_speech_and_show_bytes(self, text: str, filename: str=\"output.mp3\", mode: str = 'ZH'):\n",
    "        \"\"\"Convert text to speech, save it, then read and display the bytes\"\"\"\n",
    "        try:\n",
    "            if mode == 'ZH':\n",
    "                input_voice, input_language = 'Chinese', 'ZH'\n",
    "            else:\n",
    "                input_voice, input_language = 'English', 'EN'\n",
    "\n",
    "            \n",
    "            # Initialize the engine\n",
    "            self.engine = pyttsx3.init()\n",
    "            \n",
    "            # Try to set Chinese voice if available\n",
    "            voices = self.engine.getProperty('voices')\n",
    "            for voice in voices:\n",
    "                if input_voice in voice.name or input_language in voice.languages:\n",
    "                    self.engine.setProperty('voice', voice.id)\n",
    "                    break\n",
    "            \n",
    "            # Save to file\n",
    "            self.engine.save_to_file(text, filename)\n",
    "            self.engine.runAndWait()\n",
    "            \n",
    "            # Read the file back as bytes\n",
    "\n",
    "            with open(filename, 'rb') as f:\n",
    "                audio_bytes = f.read()\n",
    "            audio_bytes_64 = base64.b64encode(audio_bytes).decode('utf-8')\n",
    "\n",
    "            return audio_bytes_64, audio_bytes\n",
    "            \n",
    "        except Exception as e:\n",
    "            print(f\"Error: {e}\")\n",
    "        finally:\n",
    "            # Clean up - remove the file if you want\n",
    "            if os.path.exists(filename):\n",
    "                os.remove(filename)\n",
    "\n"
   ]
  },
  {
   "cell_type": "code",
   "execution_count": 13,
   "id": "9e075df1",
   "metadata": {},
   "outputs": [],
   "source": [
    "tts = TTS()"
   ]
  },
  {
   "cell_type": "code",
   "execution_count": 14,
   "id": "9fa1af5c",
   "metadata": {},
   "outputs": [],
   "source": [
    "answr =\"\"\" 晋祠是位于山西省太原市的一处古代文化遗址和园林。它是中国现存最早的木结构建筑群之一，被誉为“中国最美的私家花园”。晋祠主要由一系列的殿堂、亭台楼阁以及雕塑、碑刻组成，其中最著名的是圣母殿和鱼沼飞梁。\\n\\n该景区不仅以其精美的古建筑而闻名，还保存了许多珍贵的历史文物。其中最为人所熟知的是一系列关于孔子及其先祖的石雕画像，以及大量的铭文碑刻，这些都见证了晋祠悠久的历史和丰富的人文内涵。\\n\\n晋祠展现了中国古代高超的艺术成就和文化智慧，对于研究古代中国建筑、雕塑艺术及文化习俗具有重要价值。\"\"\""
   ]
  },
  {
   "cell_type": "code",
   "execution_count": 15,
   "id": "c8fe0c79",
   "metadata": {},
   "outputs": [],
   "source": [
    "tts = TTS()\n",
    "_,ss = tts.text_to_speech_and_show_bytes(answr)"
   ]
  },
  {
   "cell_type": "code",
   "execution_count": 17,
   "id": "777d1a11",
   "metadata": {},
   "outputs": [
    {
     "ename": "TypeError",
     "evalue": "Unsupported data type: 'bytes16376608'",
     "output_type": "error",
     "traceback": [
      "\u001b[31m---------------------------------------------------------------------------\u001b[39m",
      "\u001b[31mTypeError\u001b[39m                                 Traceback (most recent call last)",
      "\u001b[36mCell\u001b[39m\u001b[36m \u001b[39m\u001b[32mIn[17]\u001b[39m\u001b[32m, line 4\u001b[39m\n\u001b[32m      1\u001b[39m \u001b[38;5;28;01mimport\u001b[39;00m\u001b[38;5;250m \u001b[39m\u001b[34;01msoundfile\u001b[39;00m\u001b[38;5;250m \u001b[39m\u001b[38;5;28;01mas\u001b[39;00m\u001b[38;5;250m \u001b[39m\u001b[34;01mdf\u001b[39;00m\n\u001b[32m      2\u001b[39m \u001b[38;5;28;01mimport\u001b[39;00m\u001b[38;5;250m \u001b[39m\u001b[34;01msounddevice\u001b[39;00m\u001b[38;5;250m \u001b[39m\u001b[38;5;28;01mas\u001b[39;00m\u001b[38;5;250m \u001b[39m\u001b[34;01msd\u001b[39;00m\n\u001b[32m----> \u001b[39m\u001b[32m4\u001b[39m \u001b[43msd\u001b[49m\u001b[43m.\u001b[49m\u001b[43mplay\u001b[49m\u001b[43m(\u001b[49m\u001b[43mss\u001b[49m\u001b[43m)\u001b[49m\n",
      "\u001b[36mFile \u001b[39m\u001b[32md:\\toursim\\updated\\Backend_Algorithm_tourism_App\\tourist\\Lib\\site-packages\\sounddevice.py:170\u001b[39m, in \u001b[36mplay\u001b[39m\u001b[34m(data, samplerate, mapping, blocking, loop, **kwargs)\u001b[39m\n\u001b[32m    103\u001b[39m \u001b[38;5;250m\u001b[39m\u001b[33;03m\"\"\"Play back a NumPy array containing audio data.\u001b[39;00m\n\u001b[32m    104\u001b[39m \n\u001b[32m    105\u001b[39m \u001b[33;03mThis is a convenience function for interactive use and for small\u001b[39;00m\n\u001b[32m   (...)\u001b[39m\u001b[32m    167\u001b[39m \n\u001b[32m    168\u001b[39m \u001b[33;03m\"\"\"\u001b[39;00m\n\u001b[32m    169\u001b[39m ctx = _CallbackContext(loop=loop)\n\u001b[32m--> \u001b[39m\u001b[32m170\u001b[39m ctx.frames = \u001b[43mctx\u001b[49m\u001b[43m.\u001b[49m\u001b[43mcheck_data\u001b[49m\u001b[43m(\u001b[49m\u001b[43mdata\u001b[49m\u001b[43m,\u001b[49m\u001b[43m \u001b[49m\u001b[43mmapping\u001b[49m\u001b[43m,\u001b[49m\u001b[43m \u001b[49m\u001b[43mkwargs\u001b[49m\u001b[43m.\u001b[49m\u001b[43mget\u001b[49m\u001b[43m(\u001b[49m\u001b[33;43m'\u001b[39;49m\u001b[33;43mdevice\u001b[39;49m\u001b[33;43m'\u001b[39;49m\u001b[43m)\u001b[49m\u001b[43m)\u001b[49m\n\u001b[32m    172\u001b[39m \u001b[38;5;28;01mdef\u001b[39;00m\u001b[38;5;250m \u001b[39m\u001b[34mcallback\u001b[39m(outdata, frames, time, status):\n\u001b[32m    173\u001b[39m     \u001b[38;5;28;01massert\u001b[39;00m \u001b[38;5;28mlen\u001b[39m(outdata) == frames\n",
      "\u001b[36mFile \u001b[39m\u001b[32md:\\toursim\\updated\\Backend_Algorithm_tourism_App\\tourist\\Lib\\site-packages\\sounddevice.py:2522\u001b[39m, in \u001b[36m_CallbackContext.check_data\u001b[39m\u001b[34m(self, data, mapping, device)\u001b[39m\n\u001b[32m   2519\u001b[39m     \u001b[38;5;28;01mraise\u001b[39;00m \u001b[38;5;167;01mValueError\u001b[39;00m(\n\u001b[32m   2520\u001b[39m         \u001b[33m'\u001b[39m\u001b[33maudio data to be played back must be one- or two-dimensional\u001b[39m\u001b[33m'\u001b[39m)\n\u001b[32m   2521\u001b[39m frames, channels = data.shape\n\u001b[32m-> \u001b[39m\u001b[32m2522\u001b[39m dtype = \u001b[43m_check_dtype\u001b[49m\u001b[43m(\u001b[49m\u001b[43mdata\u001b[49m\u001b[43m.\u001b[49m\u001b[43mdtype\u001b[49m\u001b[43m)\u001b[49m\n\u001b[32m   2523\u001b[39m mapping_is_explicit = mapping \u001b[38;5;129;01mis\u001b[39;00m \u001b[38;5;129;01mnot\u001b[39;00m \u001b[38;5;28;01mNone\u001b[39;00m\n\u001b[32m   2524\u001b[39m mapping, channels = _check_mapping(mapping, channels)\n",
      "\u001b[36mFile \u001b[39m\u001b[32md:\\toursim\\updated\\Backend_Algorithm_tourism_App\\tourist\\Lib\\site-packages\\sounddevice.py:2690\u001b[39m, in \u001b[36m_check_dtype\u001b[39m\u001b[34m(dtype)\u001b[39m\n\u001b[32m   2688\u001b[39m     dtype = \u001b[33m'\u001b[39m\u001b[33mfloat32\u001b[39m\u001b[33m'\u001b[39m\n\u001b[32m   2689\u001b[39m \u001b[38;5;28;01melse\u001b[39;00m:\n\u001b[32m-> \u001b[39m\u001b[32m2690\u001b[39m     \u001b[38;5;28;01mraise\u001b[39;00m \u001b[38;5;167;01mTypeError\u001b[39;00m(\u001b[33m'\u001b[39m\u001b[33mUnsupported data type: \u001b[39m\u001b[33m'\u001b[39m + \u001b[38;5;28mrepr\u001b[39m(dtype))\n\u001b[32m   2691\u001b[39m \u001b[38;5;28;01mreturn\u001b[39;00m dtype\n",
      "\u001b[31mTypeError\u001b[39m: Unsupported data type: 'bytes16376608'"
     ]
    }
   ],
   "source": [
    "import soundfile as df\n",
    "import sounddevice as sd\n",
    "\n",
    "sd.play(ss)"
   ]
  },
  {
   "cell_type": "code",
   "execution_count": 21,
   "id": "7069623b",
   "metadata": {},
   "outputs": [
    {
     "name": "stdout",
     "output_type": "stream",
     "text": [
      "音频已保存到: D:\\toursim\\updated\\Backend_Algorithm_tourism_App\\Algorithm\\output.wav\n"
     ]
    }
   ],
   "source": [
    "import pyttsx3\n",
    "import os\n",
    "import base64\n",
    "import soundfile as sf\n",
    "import sounddevice as sd\n",
    "\n",
    "class TTS():\n",
    "    def __init__(self):\n",
    "        self.engine = pyttsx3.init()\n",
    "\n",
    "    def text_to_speech_and_play(self, text: str, output_dir: str = r\"D:\\toursim\\updated\\Backend_Algorithm_tourism_App\\Algorithm\", \n",
    "                                 filename: str = \"output.wav\", mode: str = 'ZH'):\n",
    "        \"\"\"将文本转换为语音，保存到指定目录，然后播放\"\"\"\n",
    "        try:\n",
    "            # 确保输出目录存在\n",
    "            os.makedirs(output_dir, exist_ok=True)\n",
    "            file_path = os.path.join(output_dir, filename)\n",
    "            \n",
    "            if mode == 'ZH':\n",
    "                input_voice, input_language = 'Chinese', 'ZH'\n",
    "            else:\n",
    "                input_voice, input_language = 'English', 'EN'\n",
    "\n",
    "            # 初始化引擎\n",
    "            self.engine = pyttsx3.init()\n",
    "            \n",
    "            # 设置语音\n",
    "            voices = self.engine.getProperty('voices')\n",
    "            voice_set = False\n",
    "            for voice in voices:\n",
    "                if input_voice in voice.name or input_language in voice.languages:\n",
    "                    self.engine.setProperty('voice', voice.id)\n",
    "                    voice_set = True\n",
    "                    break\n",
    "            \n",
    "            if not voice_set:\n",
    "                print(f\"警告: 未找到{input_voice}语音，使用默认语音\")\n",
    "            \n",
    "            # 保存到文件\n",
    "            self.engine.save_to_file(text, file_path)\n",
    "            self.engine.runAndWait()\n",
    "            \n",
    "            # 使用soundfile读取并播放\n",
    "            data, samplerate = sf.read(file_path)\n",
    "            sd.play(data, samplerate)\n",
    "            sd.wait()  # 等待播放完成\n",
    "            \n",
    "            # 读取文件内容为字节\n",
    "            with open(file_path, 'rb') as f:\n",
    "                audio_bytes = f.read()\n",
    "            audio_bytes_64 = base64.b64encode(audio_bytes).decode('utf-8')\n",
    "\n",
    "            return audio_bytes_64, file_path\n",
    "            \n",
    "        except Exception as e:\n",
    "            print(f\"Error: {e}\")\n",
    "            return None, None\n",
    "        finally:\n",
    "            if os.path.exists(file_path):\n",
    "                pass\n",
    "answer = \"\"\"晋祠是位于山西省太原市的一处古代文化遗址和园林\"\"\"  # 省略了重复文本\n",
    "\n",
    "tts = TTS()\n",
    "audio_data, file_path = tts.text_to_speech_and_play(answer)\n",
    "\n",
    "if file_path:\n",
    "    print(f\"音频已保存到: {file_path}\")"
   ]
  },
  {
   "cell_type": "code",
   "execution_count": null,
   "id": "2c60bb71",
   "metadata": {},
   "outputs": [],
   "source": []
  }
 ],
 "metadata": {
  "kernelspec": {
   "display_name": "tourist",
   "language": "python",
   "name": "python3"
  },
  "language_info": {
   "codemirror_mode": {
    "name": "ipython",
    "version": 3
   },
   "file_extension": ".py",
   "mimetype": "text/x-python",
   "name": "python",
   "nbconvert_exporter": "python",
   "pygments_lexer": "ipython3",
   "version": "3.12.8"
  }
 },
 "nbformat": 4,
 "nbformat_minor": 5
}
