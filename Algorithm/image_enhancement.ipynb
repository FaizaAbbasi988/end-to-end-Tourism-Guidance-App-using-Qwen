{
 "cells": [
  {
   "cell_type": "code",
   "execution_count": null,
   "metadata": {},
   "outputs": [
    {
     "ename": "",
     "evalue": "",
     "output_type": "error",
     "traceback": [
      "\u001b[1;31mRunning cells with 'tourism (Python 3.10.0)' requires the ipykernel package.\n",
      "\u001b[1;31mRun the following command to install 'ipykernel' into the Python environment. \n",
      "\u001b[1;31mCommand: 'd:/toursim/updated/Backend_Algorithm_tourism_App/tourism/Scripts/python.exe -m pip install ipykernel -U --force-reinstall'"
     ]
    }
   ],
   "source": [
    "from diffusers import StableVideoDiffusionPipeline\n",
    "import torch\n",
    "\n",
    "pipe = StableVideoDiffusionPipeline.from_pretrained(\n",
    "    \"stabilityai/stable-video-diffusion-img2vid-xt\",\n",
    "    torch_dtype=torch.float16,\n",
    "    variant=\"fp16\",\n",
    ")\n",
    "pipe.to(\"cuda\")\n",
    "\n",
    "# Load an image (e.g., PIL format)\n",
    "from PIL import Image\n",
    "image = Image.open(r\"D:\\backend_algorithm_blind_person_guidance\\other_materials\\test2.jpg\")\n",
    "\n",
    "# Generate video (no prompt required, but can be added)\n",
    "frames = pipe(image, decode_chunk_size=8).frames[0]\n",
    "frames[0].save(\"output.gif\", save_all=True, append_images=frames[1:], loop=0)"
   ]
  },
  {
   "cell_type": "code",
   "execution_count": null,
   "metadata": {},
   "outputs": [],
   "source": []
  }
 ],
 "metadata": {
  "kernelspec": {
   "display_name": "tourism",
   "language": "python",
   "name": "python3"
  },
  "language_info": {
   "name": "python",
   "version": "3.10.0"
  }
 },
 "nbformat": 4,
 "nbformat_minor": 2
}
