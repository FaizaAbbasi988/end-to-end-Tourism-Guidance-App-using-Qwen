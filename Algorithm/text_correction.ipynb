{
 "cells": [
  {
   "cell_type": "code",
   "execution_count": 9,
   "metadata": {},
   "outputs": [],
   "source": [
    "text = \"\"\"\n",
    "\n",
    "关于晋祠的特色美食，确实不多见。晋祠主要以其丰富的历史文化和园林景观著称。在晋祠周边，您可以品尝到一些与晋祠文化相关的山西地方美食。\\n\\n1.**山西刀削面**:这道菜是典型的山西菜系，口感筋道，适合下饭。您可以在去往晋祠的路上或周边找到正宗的山西刀削面馆尝试。\\n\\n2.**太原甑糕**:这是太原地区非常有名的传统小吃之一，具有悠久的历史。它是由糯米和小米混合制成的一种粘性糕点，通常会在冬季食用以保温。在距离晋祠不远的地方也可以尝试到。\\n\\n3.**老陈醋**:山西以其独特的老陈醋闻名于世，不仅用于烹饪调味，也常作为餐桌上的小食。您可以在太原城内找到许多售卖各种醋制品的小店或市场。\\n\\n4.**莜面栲栳栳**:这是一种以莜麦为主料制成的食品，形状如大碗，口感软糯。在晋祠周边地区也有机会品尝到这一特色美食。\\n\\n这些食物不仅反映了山西丰富的饮食文化，也可以让您更深入地了解山西的历史和地理特征。\n",
    "\n",
    "\"\"\""
   ]
  },
  {
   "cell_type": "code",
   "execution_count": 118,
   "metadata": {},
   "outputs": [
    {
     "name": "stdout",
     "output_type": "stream",
     "text": [
      "{'Introduction': '\"晋祠作为太原市著名的旅游景点，不仅以古建筑和园林景观著称，周边还有丰富的美食文化可以体验。以下是与晋祠相关的特色菜系分类及其详细信息：', '太原传统小吃**': {'  - 猫耳朵': '一种外形酷似猫耳的小吃，由面粉制成，可甜可咸，通常用芝麻糖浆或各种酱料拌食。', '  - 拨鱼儿': '这道面点是将面团搓成细条后下锅煮熟，类似意大利面的制作方式。常搭配豆芽、辣椒油等食用。'}, '山西特色菜肴**': {'  - 烧麦': '以薄皮包裹肉馅制成的小吃，蒸制而成，特点是皮薄馅多。', '  - 面皮': '将面粉调成糊状，在锅上摊成极薄的饼，随后切成条状，加入酱料、蔬菜等食用。'}, '山西面食**': {'  - 刀削面': '使用特制刀具削出宽窄不一的面条，煮熟后搭配各种汤底和浇头。', '  - 担担面': '虽然起源于四川，但在太原也有变种，通常用细面条加上花生酱、辣椒油等调料制成。'}}\n"
     ]
    }
   ],
   "source": [
    "new_text = \"\"\"\"晋祠作为太原市著名的旅游景点，不仅以古建筑和园林景观著称，周边还有丰富的美食文化可以体验。以下是与晋祠相关的特色菜系分类及其详细信息：\\n\\n- **太原传统小吃**\\n  - 猫耳朵：一种外形酷似猫耳的小吃，由面粉制成，可甜可咸，通常用芝麻糖浆或各种酱料拌食。\\n  - 拨鱼儿：这道面点是将面团搓成细条后下锅煮熟，类似意大利面的制作方式。常搭配豆芽、辣椒油等食用。\\n\\n- **山西特色菜肴**\\n  - 烧麦：以薄皮包裹肉馅制成的小吃，蒸制而成，特点是皮薄馅多。\\n  - 面皮：将面粉调成糊状，在锅上摊成极薄的饼，随后切成条状，加入酱料、蔬菜等食用。\\n\\n- **山西面食**\\n  - 刀削面：使用特制刀具削出宽窄不一的面条，煮熟后搭配各种汤底和浇头。\\n  - 担担面：虽然起源于四川，但在太原也有变种，通常用细面条加上花生酱、辣椒油等调料制成。\\n\\n以上列出的美食只是晋祠周边地区众多特色菜肴的一部分。这些菜品不仅味道独特，而且各有其历史背景与文化含义，在品尝的同时也可以更好地了解当地的文化习俗。\"\"\"\n",
    "\n",
    "# Split the text into sections\n",
    "text_sections = str(new_text).split(\"\\n\\n- **\")\n",
    "non_empty_sections = [section for section in text_sections if section != \"\"]\n",
    "\n",
    "food_categories = {}\n",
    "\n",
    "for section_index, section_content in enumerate(non_empty_sections):\n",
    "    if section_index == 0:\n",
    "        food_categories[\"Introduction\"] = section_content\n",
    "    else:\n",
    "        # Split each section into lines and remove empty lines\n",
    "        section_lines = [line for line in section_content.split(\"\\n\") if line != \"\"]\n",
    "        \n",
    "        # Create a dictionary for the food items in this category\n",
    "        food_items = {}\n",
    "        \n",
    "        # Process each food item line (skipping the category name at index 0)\n",
    "        for food_line in section_lines[1:]:\n",
    "            # Split food name from description\n",
    "            food_parts = [part for part in food_line.split(\"：\") if part != \"\"]\n",
    "            if len(food_parts) == 2:\n",
    "                food_name, food_description = food_parts\n",
    "                food_items[food_name] = food_description\n",
    "        \n",
    "        # Add this category to our main dictionary\n",
    "        category_name = section_lines[0]\n",
    "        food_categories[category_name] = food_items\n",
    "\n",
    "# For the last section, handle any concluding text if needed\n",
    "if \"以上列出的美食\" in food_categories.get(\"Introduction\", \"\"):\n",
    "    # This text is already in the introduction\n",
    "    pass\n",
    "\n",
    "print(food_categories)"
   ]
  },
  {
   "cell_type": "code",
   "execution_count": 120,
   "metadata": {},
   "outputs": [
    {
     "data": {
      "text/plain": [
       "{'Introduction': '\"晋祠作为太原市著名的旅游景点，不仅以古建筑和园林景观著称，周边还有丰富的美食文化可以体验。以下是与晋祠相关的特色菜系分类及其详细信息：',\n",
       " '太原传统小吃**': {'  - 猫耳朵': '一种外形酷似猫耳的小吃，由面粉制成，可甜可咸，通常用芝麻糖浆或各种酱料拌食。',\n",
       "  '  - 拨鱼儿': '这道面点是将面团搓成细条后下锅煮熟，类似意大利面的制作方式。常搭配豆芽、辣椒油等食用。'},\n",
       " '山西特色菜肴**': {'  - 烧麦': '以薄皮包裹肉馅制成的小吃，蒸制而成，特点是皮薄馅多。',\n",
       "  '  - 面皮': '将面粉调成糊状，在锅上摊成极薄的饼，随后切成条状，加入酱料、蔬菜等食用。'},\n",
       " '山西面食**': {'  - 刀削面': '使用特制刀具削出宽窄不一的面条，煮熟后搭配各种汤底和浇头。',\n",
       "  '  - 担担面': '虽然起源于四川，但在太原也有变种，通常用细面条加上花生酱、辣椒油等调料制成。'}}"
      ]
     },
     "execution_count": 120,
     "metadata": {},
     "output_type": "execute_result"
    }
   ],
   "source": [
    "food_categories"
   ]
  },
  {
   "cell_type": "code",
   "execution_count": null,
   "metadata": {},
   "outputs": [],
   "source": []
  }
 ],
 "metadata": {
  "kernelspec": {
   "display_name": "tourism",
   "language": "python",
   "name": "python3"
  },
  "language_info": {
   "codemirror_mode": {
    "name": "ipython",
    "version": 3
   },
   "file_extension": ".py",
   "mimetype": "text/x-python",
   "name": "python",
   "nbconvert_exporter": "python",
   "pygments_lexer": "ipython3",
   "version": "3.10.0"
  }
 },
 "nbformat": 4,
 "nbformat_minor": 2
}
