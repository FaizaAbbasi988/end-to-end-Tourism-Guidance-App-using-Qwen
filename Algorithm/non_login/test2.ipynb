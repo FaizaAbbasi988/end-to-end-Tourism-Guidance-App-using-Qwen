{
 "cells": [
  {
   "cell_type": "code",
   "execution_count": 18,
   "id": "f299580d",
   "metadata": {},
   "outputs": [],
   "source": [
    "text = \"\"\"\n",
    "\\n\\n[最佳路线] 晋祠南门牌坊 → 飞龙阁 → 龙亭照壁图壁 → 水镜台 → 品道讲堂 → 圣母殿 → 后花园\"\n",
    "\"\"\""
   ]
  },
  {
   "cell_type": "code",
   "execution_count": 19,
   "id": "adc666bc",
   "metadata": {},
   "outputs": [
    {
     "name": "stdout",
     "output_type": "stream",
     "text": [
      "\n",
      "\n",
      "\n",
      "[最佳路线] 晋祠南门牌坊 → 飞龙阁 → 龙亭照壁图壁 → 水镜台 → 品道讲堂 → 圣母殿 → 后花园\"\n",
      "\n"
     ]
    }
   ],
   "source": [
    "print(text)"
   ]
  },
  {
   "cell_type": "code",
   "execution_count": null,
   "id": "1b4256bd",
   "metadata": {},
   "outputs": [
    {
     "name": "stdout",
     "output_type": "stream",
     "text": [
      "yes\n"
     ]
    }
   ],
   "source": [
    "if '文化介绍' in text or '最佳路线' in text:\n",
    "    print(\"yes\")\n",
    "else:\n",
    "    print('No')"
   ]
  },
  {
   "cell_type": "code",
   "execution_count": null,
   "id": "41e23abe",
   "metadata": {},
   "outputs": [],
   "source": []
  }
 ],
 "metadata": {
  "kernelspec": {
   "display_name": "travel",
   "language": "python",
   "name": "python3"
  },
  "language_info": {
   "codemirror_mode": {
    "name": "ipython",
    "version": 3
   },
   "file_extension": ".py",
   "mimetype": "text/x-python",
   "name": "python",
   "nbconvert_exporter": "python",
   "pygments_lexer": "ipython3",
   "version": "3.11.9"
  }
 },
 "nbformat": 4,
 "nbformat_minor": 5
}
